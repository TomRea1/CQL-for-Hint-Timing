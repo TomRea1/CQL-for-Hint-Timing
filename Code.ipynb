{
  "nbformat": 4,
  "nbformat_minor": 0,
  "metadata": {
    "colab": {
      "provenance": []
    },
    "kernelspec": {
      "name": "python3",
      "display_name": "Python 3"
    },
    "language_info": {
      "name": "python"
    }
  },
  "cells": [
    {
      "cell_type": "markdown",
      "source": [
        "# **Import Dependencies**"
      ],
      "metadata": {
        "id": "AvtRliWtN-1-"
      }
    },
    {
      "cell_type": "code",
      "source": [
        "import torch\n",
        "import pandas as pd\n",
        "import numpy as np\n",
        "import matplotlib.pyplot as plt\n",
        "import seaborn as sns\n",
        "import torch.nn as nn\n",
        "import scipy.sparse as sp\n",
        "from sklearn.preprocessing import OneHotEncoder"
      ],
      "metadata": {
        "id": "DjZnyI0BODZq"
      },
      "execution_count": 1,
      "outputs": []
    },
    {
      "cell_type": "markdown",
      "source": [
        "# **The Dataset**"
      ],
      "metadata": {
        "id": "1MY3oeHkLt5d"
      }
    },
    {
      "cell_type": "markdown",
      "source": [],
      "metadata": {
        "id": "ljXzNnkFLxdA"
      }
    },
    {
      "cell_type": "markdown",
      "source": [
        "# **Load Data**"
      ],
      "metadata": {
        "id": "QnBZpDhgLmEZ"
      }
    },
    {
      "cell_type": "code",
      "execution_count": 2,
      "metadata": {
        "id": "zsiL3yVTLXB6",
        "colab": {
          "base_uri": "https://localhost:8080/"
        },
        "outputId": "d3595944-91ff-467a-9a2a-76c3c70c9395"
      },
      "outputs": [
        {
          "output_type": "stream",
          "name": "stdout",
          "text": [
            "   Row Sample Name                    Transaction Id Anon Student Id  \\\n",
            "0    1    All Data  f48cba2510087c502dde920d948b364b            S002   \n",
            "1    2    All Data  2e2674c362ab346b56735759d7754b7f            S002   \n",
            "2    3    All Data  7f7d2e12b4cc5fc53472d390b21dd624            S002   \n",
            "3    4    All Data  978a103b1e84307bacd12fb88606f857            S002   \n",
            "4    5    All Data  831b85657c909543fff48c06c076eac2            S002   \n",
            "\n",
            "   Session Id                Time  Time Zone Duration (sec)  \\\n",
            "0           1 2016-02-05 19:46:00        NaN              0   \n",
            "1           1 2016-02-05 19:46:00        NaN              0   \n",
            "2           1 2016-02-05 19:46:00        NaN              0   \n",
            "3           1 2016-02-05 19:46:00        NaN              0   \n",
            "4           1 2016-02-05 19:46:00        NaN              0   \n",
            "\n",
            "  Student Response Type  Student Response Subtype  ...  \\\n",
            "0               ATTEMPT                       NaN  ...   \n",
            "1               ATTEMPT                       NaN  ...   \n",
            "2               ATTEMPT                       NaN  ...   \n",
            "3               ATTEMPT                       NaN  ...   \n",
            "4               ATTEMPT                       NaN  ...   \n",
            "\n",
            "  KC Category (Tokens_Fewer)  KC (Tokens_more) KC Category (Tokens_more)  \\\n",
            "0                        NaN            Number                       NaN   \n",
            "1                        NaN          Multiply                       NaN   \n",
            "2                        NaN  Binary Operation                       NaN   \n",
            "3                        NaN              Load                       NaN   \n",
            "4                        NaN            Return                       NaN   \n",
            "\n",
            "  KC (Operations)  KC Category (Operations) KC (Operation 2)  \\\n",
            "0          Number                       NaN           Number   \n",
            "1        Multiply                       NaN         Multiply   \n",
            "2       operation                       NaN        operation   \n",
            "3            Load                       NaN             Load   \n",
            "4          Return                       NaN           Return   \n",
            "\n",
            "  KC Category (Operation 2)  School  Class Event Type  \n",
            "0                       NaN     NaN    NaN        NaN  \n",
            "1                       NaN     NaN    NaN        NaN  \n",
            "2                       NaN     NaN    NaN        NaN  \n",
            "3                       NaN     NaN    NaN        NaN  \n",
            "4                       NaN     NaN    NaN        NaN  \n",
            "\n",
            "[5 rows x 48 columns]\n",
            "(25498, 48)\n"
          ]
        }
      ],
      "source": [
        "data = pd.read_csv(\n",
        "    'data.txt',\n",
        "    sep=\"\\t\",\n",
        "    na_values=[\"\"],\n",
        "    low_memory=False,\n",
        "    parse_dates=['Time', \"Problem Start Time\"]\n",
        ")\n",
        "\n",
        "print(data.head())\n",
        "print(data.shape)\n"
      ]
    },
    {
      "cell_type": "markdown",
      "source": [
        "# **Data Visualisations**"
      ],
      "metadata": {
        "id": "7A-C8jk3Opvi"
      }
    },
    {
      "cell_type": "code",
      "source": [
        "print(data.columns)\n",
        "print(f\"No. Rows : {data.shape[0]}\")\n",
        "print(f\"No. Cols : {data.shape[1]}\")\n"
      ],
      "metadata": {
        "id": "aBBS2JuOO2_s",
        "colab": {
          "base_uri": "https://localhost:8080/"
        },
        "outputId": "a64db819-eaa0-4bf1-f47d-a2fb08d07670"
      },
      "execution_count": 3,
      "outputs": [
        {
          "output_type": "stream",
          "name": "stdout",
          "text": [
            "Index(['Row', 'Sample Name', 'Transaction Id', 'Anon Student Id', 'Session Id',\n",
            "       'Time', 'Time Zone', 'Duration (sec)', 'Student Response Type',\n",
            "       'Student Response Subtype', 'Tutor Response Type',\n",
            "       'Tutor Response Subtype', 'Level (Default)', 'Problem Name',\n",
            "       'Problem View', 'Problem Start Time', 'Step Name', 'Attempt At Step',\n",
            "       'Is Last Attempt', 'Outcome', 'Selection', 'Action', 'Input',\n",
            "       'Feedback Text', 'Feedback Classification', 'Help Level',\n",
            "       'Total Num Hints', 'Condition Name', 'Condition Type',\n",
            "       'Condition Name.1', 'Condition Type.1', 'KC (Tokens)',\n",
            "       'KC Category (Tokens)', 'KC (Single-KC)', 'KC Category (Single-KC)',\n",
            "       'KC (Unique-step)', 'KC Category (Unique-step)', 'KC (Tokens_Fewer)',\n",
            "       'KC Category (Tokens_Fewer)', 'KC (Tokens_more)',\n",
            "       'KC Category (Tokens_more)', 'KC (Operations)',\n",
            "       'KC Category (Operations)', 'KC (Operation 2)',\n",
            "       'KC Category (Operation 2)', 'School', 'Class', 'Event Type'],\n",
            "      dtype='object')\n",
            "No. Rows : 25498\n",
            "No. Cols : 48\n"
          ]
        }
      ]
    },
    {
      "cell_type": "code",
      "source": [
        "# ensure correct temporal order\n",
        "data = data.sort_values([\"Anon Student Id\", \"Time\"]).copy()\n",
        "\n",
        "# add next row outcome within each student sequence\n",
        "data[\"next_outcome\"] = data.groupby(\"Anon Student Id\")[\"Outcome\"].shift(-1)\n",
        "\n",
        "# categorise outcomes\n",
        "def bucket(x: str) -> str:\n",
        "    x = str(x).lower()\n",
        "    if x == \"correct\":\n",
        "        return \"next_correct\"\n",
        "    elif x == \"incorrect\":\n",
        "        return \"next_incorrect\"\n",
        "    else:\n",
        "        return \"no_next_attempt\"\n",
        "\n",
        "data[\"next_cat\"] = data[\"next_outcome\"].map(bucket)\n",
        "\n",
        "# binary hint flag\n",
        "data[\"hint\"] = data[\"Outcome\"].str.lower().eq(\"hint\").astype(int)\n",
        "\n",
        "# contingency table  (rows = hint vs no hint, cols = next outcome class)\n",
        "heat_df = pd.crosstab(data[\"hint\"], data[\"next_cat\"], normalize=\"index\")\n",
        "\n",
        "plt.figure(figsize=(6, 4))\n",
        "sns.heatmap(\n",
        "    heat_df,\n",
        "    annot=True, fmt=\".2%\", cmap=\"Blues\",\n",
        "    xticklabels=[\"Correct next\", \"Incorrect next\", \"No next step\"],\n",
        "    yticklabels=[\"No hint\", \"Hint given\"]\n",
        ")\n",
        "plt.title(\"Did a hint change the very next outcome?\")\n",
        "plt.ylabel(\"\")\n",
        "plt.xlabel(\"\")\n",
        "plt.tight_layout()\n",
        "plt.show()\n"
      ],
      "metadata": {
        "colab": {
          "base_uri": "https://localhost:8080/",
          "height": 407
        },
        "id": "r2nFWK8k-KQ8",
        "outputId": "05513e95-451c-46cd-ec04-1814ea141a84"
      },
      "execution_count": 4,
      "outputs": [
        {
          "output_type": "display_data",
          "data": {
            "text/plain": [
              "<Figure size 600x400 with 2 Axes>"
            ],
            "image/png": "[encoded data removed]"
          },
          "metadata": {}
        }
      ]
    },
    {
      "cell_type": "code",
      "source": [
        "N = 30  # show top 30\n",
        "hint_rate = (\n",
        "    data.groupby(\"Problem Name\")[\"hint\"]\n",
        "    .mean()\n",
        "    .sort_values(ascending=False)\n",
        "    .head(N)\n",
        ")\n",
        "\n",
        "plt.figure(figsize=(8, 0.25*N + 1))\n",
        "plt.barh(hint_rate.index[::-1], hint_rate.values[::-1])\n",
        "plt.gca().set_xlabel(\"Hint fraction\")\n",
        "plt.title(f\"Top {N} problems – attempts that received a hint\")\n",
        "plt.tight_layout()\n",
        "plt.show()"
      ],
      "metadata": {
        "colab": {
          "base_uri": "https://localhost:8080/",
          "height": 856
        },
        "id": "MCi5fLsGCjmD",
        "outputId": "b6e707bf-2b97-4a06-d6af-b7262ba1de1c"
      },
      "execution_count": 5,
      "outputs": [
        {
          "output_type": "display_data",
          "data": {
            "text/plain": [
              "<Figure size 800x850 with 1 Axes>"
            ],
            "image/png": "[encoded data removed]"
          },
          "metadata": {}
        }
      ]
    },
    {
      "cell_type": "markdown",
      "source": [
        "# **Preprocessing**"
      ],
      "metadata": {
        "id": "CEClPNtJPoIx"
      }
    },
    {
      "cell_type": "code",
      "source": [
        "# We need to organise the data into states, actions and rewards for RL\n",
        "\n",
        "# action - hint or no hint ?\n",
        "\n",
        "actions = data['hint'].to_numpy()\n",
        "action_dim = len(actions.shape)\n",
        "\n",
        "\n",
        "# first estimate question difficulty by getting the mean correctness\n",
        "p_correct = (\n",
        "    data.groupby(\"Problem Name\")[\"Outcome\"]\n",
        "    .apply(lambda x: (x.str.lower() == 'correct').mean())\n",
        ")\n",
        "\n",
        "# stop the divide by 0 errors\n",
        "epsilon = 1e-6\n",
        "beta = np.log((1 - p_correct + epsilon) / (p_correct + epsilon))\n",
        "\n",
        "# add beta to dataframe\n",
        "data['beta'] = data['Problem Name'].map(beta)\n",
        "\n",
        "# 1-B Elo update\n",
        "learning_rate = 0.05\n",
        "data['Elo'] = 0.0 # cumulative Elo score\n",
        "data['Reward'] = 0.0 # Elo reward for that step\n",
        "\n",
        "\n",
        "# for every student's atempt history compute elo reward then add up cumulative\n",
        "# score at each step + append to dataframe\n",
        "\n",
        "for student, history in data.groupby('Anon Student Id'):\n",
        "  elo = 0.0\n",
        "  for i, row in history.sort_values('Time').iterrows():\n",
        "    outcome = str(row['Outcome']).lower()\n",
        "    if outcome in ('correct', 'incorrect'):\n",
        "      p = 1 / (1 + np.exp(-(elo - row['beta'])))\n",
        "      elo_new = elo + learning_rate * ((outcome == 'correct') - p)\n",
        "\n",
        "      data.at[i, 'Reward'] = elo_new - elo\n",
        "      elo = elo_new\n",
        "    data.at[i, \"Elo\"] = elo\n",
        "\n",
        "\n",
        "\n",
        "# check editied columns + mean, std elo reward\n",
        "print(data[[\"Anon Student Id\", \"Problem Name\", \"Outcome\", \"Elo\", \"Reward\"]].head())\n",
        "print(\"Reward mean:\", data['Reward'].mean().round(4))\n",
        "print(\"Reward std:\", data['Reward'].std())\n"
      ],
      "metadata": {
        "colab": {
          "base_uri": "https://localhost:8080/"
        },
        "id": "Kkh8IURqPqoI",
        "outputId": "83545ea3-831f-4e73-bbe4-624a9c17569f"
      },
      "execution_count": 6,
      "outputs": [
        {
          "output_type": "stream",
          "name": "stdout",
          "text": [
            "  Anon Student Id    Problem Name    Outcome       Elo    Reward\n",
            "0            S002  nearestBusStop    CORRECT  0.023411  0.023411\n",
            "1            S002  nearestBusStop  INCORRECT -0.003468 -0.026880\n",
            "2            S002  nearestBusStop    CORRECT  0.019986  0.023455\n",
            "3            S002  nearestBusStop    CORRECT  0.043149  0.023163\n",
            "4            S002  nearestBusStop    CORRECT  0.066024  0.022875\n",
            "Reward mean: 0.0003\n",
            "Reward std: 0.020603985572324367\n"
          ]
        }
      ]
    },
    {
      "cell_type": "code",
      "source": [
        "# add time since previous attempt (estimated thinking time)\n",
        "# add cumulative hints / session\n",
        "# terminal column (bool)\n",
        "\n",
        "data = data.sort_values(['Anon Student Id', 'Time']).copy()\n",
        "\n",
        "data['time_gap'] = (\n",
        "    data.groupby('Anon Student Id')['Time']\n",
        "    .diff().dt.total_seconds()\n",
        "    .fillna(0)\n",
        ")\n",
        "\n",
        "data['hints_so_far'] = (\n",
        "    data.groupby('Anon Student Id')['hint']\n",
        "      .cumsum().shift(fill_value=0)\n",
        ")\n",
        "\n",
        "# terminals\n",
        "\n",
        "terminals = data.groupby('Anon Student Id').tail(1).index\n",
        "data['terminal'] = False\n",
        "data.loc[terminals, 'terminal'] = True\n",
        "\n",
        "\n",
        "\n",
        "# train / test split (80/20)\n",
        "\n",
        "np.random.seed(42)\n",
        "students = data['Anon Student Id'].unique()\n",
        "test = np.random.choice(students, size=int(0.2 * len(students)), replace=False)\n",
        "\n",
        "data['is_test'] = data['Anon Student Id'].isin(test)\n",
        "\n",
        "\n",
        "one_hot = OneHotEncoder(handle_unknown='ignore')\n",
        "oh_features = one_hot.fit_transform(data[['Problem Name']])\n",
        "\n",
        "# mean time taken , std time taken\n",
        "time_mu = data['time_gap'].mean()\n",
        "time_sigma = data['time_gap'].std()\n",
        "\n",
        "# mean hints, std hints\n",
        "hint_mu = data['hints_so_far'].mean()\n",
        "hint_sigma = data['hints_so_far'].std()\n",
        "\n",
        "\n",
        "\n",
        "# as it stands reward is only calculated on attempt rows -> reward zero for all hint actions\n",
        "# update data to propogate next step reward backward to reward network for hinting if it helped / penalise if not\n",
        "\n",
        "\n",
        "is_attempt = data['Outcome'].str.lower().isin(['correct', 'incorrect'])\n",
        "attempt_reward = data['Reward'].where(is_attempt)\n",
        "\n",
        "data['reward_next_attempt'] = (\n",
        "    attempt_reward.groupby(data['Anon Student Id']).shift(-1)\n",
        ")\n",
        "\n",
        "data['reward_next_attempt'] = data['reward_next_attempt'].fillna(0.0)\n",
        "\n",
        "\n"
      ],
      "metadata": {
        "id": "aQIb5e0w67cb"
      },
      "execution_count": 7,
      "outputs": []
    },
    {
      "cell_type": "markdown",
      "source": [
        "# **Hyperparameters**"
      ],
      "metadata": {
        "id": "0mQx2911lOwh"
      }
    },
    {
      "cell_type": "code",
      "source": [
        "buffer_size = 500_000  # Replay buffer size\n",
        "batch_size = 256  # Batch size for all networks\n",
        "cql_n_actions= 10  # Number of sampled actions\n",
        "cql_importance_sample = True  # Use importance sampling\n",
        "cql_target_action_gapt = -1.0  # Action gap\n",
        "cql_tempt = 1.0  # CQL temperature\n",
        "alpha = 1\n",
        "lr = 3e-4\n",
        "steps = 30_000\n",
        "tau = 5e-3\n",
        "gamma = 0.99\n",
        "action_dim = 2\n"
      ],
      "metadata": {
        "id": "nzD-dp6DlSUh"
      },
      "execution_count": 9,
      "outputs": []
    },
    {
      "cell_type": "code",
      "source": [
        "device = torch.device(\"cuda\" if torch.cuda.is_available() else \"cpu\")"
      ],
      "metadata": {
        "id": "1saLSqe1v1R-"
      },
      "execution_count": 119,
      "outputs": []
    },
    {
      "cell_type": "markdown",
      "source": [
        "# Base Network"
      ],
      "metadata": {
        "id": "X14FDrvnO7-h"
      }
    },
    {
      "cell_type": "code",
      "source": [
        "class Network(nn.Module):\n",
        "  def __init__(self, state_dim, action_dim=2):\n",
        "    super().__init__()\n",
        "    self.fc1 = nn.Linear(state_dim, 256)\n",
        "    self.fc2 = nn.Linear(256, 256)\n",
        "    self.fc3 = nn.Linear(256, action_dim)\n",
        "    self.relu = nn.ReLU()\n",
        "\n",
        "  def forward(self, x : torch.Tensor):\n",
        "    x = self.relu(self.fc1(x))\n",
        "    x = self.relu(self.fc2(x))\n",
        "    return self.fc3(x)"
      ],
      "metadata": {
        "id": "FvRJxD3iPONP"
      },
      "execution_count": 120,
      "outputs": []
    },
    {
      "cell_type": "code",
      "source": [
        "n_transitions = 0\n",
        "for i, history in data[~data['is_test']].groupby('Anon Student Id'):\n",
        "  n_transitions += len(history) -1\n",
        "\n",
        "print(n_transitions)\n",
        "print(len(data))"
      ],
      "metadata": {
        "colab": {
          "base_uri": "https://localhost:8080/"
        },
        "id": "Jj0HOqWP8687",
        "outputId": "3b135310-4f9f-4627-e8d3-5f360ec39e6a"
      },
      "execution_count": 121,
      "outputs": [
        {
          "output_type": "stream",
          "name": "stdout",
          "text": [
            "21491\n",
            "25498\n"
          ]
        }
      ]
    },
    {
      "cell_type": "markdown",
      "source": [
        "# **Replay Buffer**"
      ],
      "metadata": {
        "id": "GPXLt5Ngj8ym"
      }
    },
    {
      "cell_type": "code",
      "source": [
        "class ReplayBuffer():\n",
        "  def __init__(self,\n",
        "               state_dim : int,\n",
        "               buffer_size : int):\n",
        "\n",
        "    self.full = False\n",
        "    self.ptr = 0\n",
        "    self.buffer_size = buffer_size\n",
        "\n",
        "    # set up to enable batches more skewed towards hint for balance\n",
        "    self.hint_idx = []\n",
        "    self.no_hint_idx = []\n",
        "\n",
        "    self.states = np.zeros((buffer_size, state_dim), dtype=np.float32)\n",
        "\n",
        "    self.actions = np.zeros(buffer_size, dtype=np.int64)\n",
        "\n",
        "    self.rewards = np.zeros(buffer_size, dtype=np.float32)\n",
        "\n",
        "    self.next_states = np.zeros((buffer_size, state_dim), dtype=np.float32)\n",
        "\n",
        "    self.terminals = np.zeros(buffer_size, dtype=np.float32)\n",
        "\n",
        "\n",
        "  def add(self, state, action, reward, next_state, terminal):\n",
        "    i = self.ptr\n",
        "    self.states[i] = state\n",
        "    self.actions[i] = int(action)\n",
        "    self.rewards[i] = float(reward)\n",
        "    self.next_states[i] = next_state\n",
        "    self.terminals[i] = float(terminal)\n",
        "\n",
        "    # track hints and no hints\n",
        "    if int(action) == 1:\n",
        "      self.hint_idx.append(i)\n",
        "    else:\n",
        "      self.no_hint_idx.append(i)\n",
        "\n",
        "    self.ptr += 1\n",
        "\n",
        "    if self.ptr >= self.buffer_size:\n",
        "      self.full = True\n",
        "      self.ptr = self.buffer_size\n",
        "\n",
        "  def sample(self, batch, oversample=False):\n",
        "    max = self.buffer_size if self.full else self.ptr\n",
        "    if not oversample :\n",
        "      index = np.random.randint(0, max, size=batch)\n",
        "    else:\n",
        "      n_hint = int(batch * 0.3) # 70/30 split for balance\n",
        "      n_no_hint = batch - n_hint\n",
        "      hint_pool = self.hint_idx if len(self.hint_idx) else [0]\n",
        "      no_hint_pool = self.no_hint_idx if len(self.no_hint_idx) else [0]\n",
        "      index = np.concatenate([\n",
        "          np.random.choice(hint_pool, size=min(n_hint, len(hint_pool)), replace=True),\n",
        "          np.random.choice(no_hint_pool, size=min(n_no_hint, len(no_hint_pool)), replace=True),\n",
        "\n",
        "      ])\n",
        "      np.random.shuffle(index)\n",
        "\n",
        "\n",
        "    return (\n",
        "        torch.tensor(self.states[index], dtype=torch.float32),\n",
        "        torch.tensor(self.actions[index], dtype=torch.long),\n",
        "        torch.tensor(self.rewards[index], dtype=torch.float32),\n",
        "        torch.tensor(self.next_states[index], dtype=torch.float32),\n",
        "        torch.tensor(self.terminals[index], dtype=torch.float32),\n",
        "    )\n",
        "\n"
      ],
      "metadata": {
        "id": "ccQK75eNj8cH"
      },
      "execution_count": 122,
      "outputs": []
    },
    {
      "cell_type": "markdown",
      "source": [
        "# **Agent**"
      ],
      "metadata": {
        "id": "54EzxPrkOy39"
      }
    },
    {
      "cell_type": "code",
      "source": [
        "class Agent():\n",
        "  def __init__(self, replay_buffer, lr, batch_size, alpha, gamma, tau):\n",
        "    self.lr = lr\n",
        "    self.replay_buffer = replay_buffer\n",
        "    self.batch_size = batch_size\n",
        "    self.gamma = gamma\n",
        "    self.alpha = alpha\n",
        "    self.tau = tau\n",
        "    self.device = device\n",
        "\n",
        "    # plotting\n",
        "\n",
        "    self.logevery = 500\n",
        "    self._steps = []\n",
        "    self.vals = []\n",
        "    self.losses = []\n",
        "    self.eval_states = None\n",
        "\n",
        "    state_dim = self.replay_buffer.states.shape[1]\n",
        "    self.q = Network(state_dim).to(device)\n",
        "    self.target = Network(state_dim).to(device)\n",
        "    self.target.load_state_dict(self.q.state_dict())\n",
        "\n",
        "    self.optimiser = torch.optim.Adam(self.q.parameters(), lr=self.lr)\n",
        "    self.loss = nn.MSELoss()\n",
        "\n",
        "    theta_idx = state_dim - 3\n",
        "\n",
        "  def update(self):\n",
        "    for tp, p in zip(self.target.parameters(), self.q.parameters()):\n",
        "      tp.data.mul_(1-self.tau).add_(self.tau * p.data)\n",
        "\n",
        "  @torch.no_grad()\n",
        "  def cache(self, step, loss_total):\n",
        "    if self.eval_states is None or self.eval_states.numel() ==0:\n",
        "      return\n",
        "    q = self.q(self.eval_states)\n",
        "    v = q.max(dim=1).values.mean().item()\n",
        "    self._steps.append(int(step))\n",
        "    self.vals.append(float(v))\n",
        "    self.losses.append(float(loss_total))\n",
        "\n",
        "\n",
        "  def prep_plot(self, buf, n_eval: int = 512):\n",
        "    states= torch.as_tensor(buf.states, dtype=torch.float32, device=self.device)\n",
        "    n = min(n_eval, states.shape[0])\n",
        "    idx = torch.randperm(states.shape[0])[:n]\n",
        "    self.eval_states = states.index_select(0, idx)\n",
        "\n",
        "  def plot(self, label: str = None):\n",
        "    x = np.array(self._steps, dtype=float)\n",
        "    y = np.array(self.vals, dtype=float)\n",
        "    loss = np.array(self.losses, dtype=float)\n",
        "\n",
        "    name = label\n",
        "\n",
        "    plt.figure(1, figsize=(8,5))\n",
        "    plt.plot(x, y, label=name)\n",
        "    plt.xlabel('Update Step')\n",
        "    plt.ylabel('Training Curve')\n",
        "    plt.legend()\n",
        "\n",
        "    plt.figure(2, figsize=(8,5))\n",
        "    plt.plot(x, loss, label=name)\n",
        "    plt.xlabel('Update Step')\n",
        "    plt.ylabel('Loss Curve')\n",
        "    plt.legend()\n",
        "\n",
        "\n",
        "  def train(self, max_steps, log_interval=500):\n",
        "\n",
        "    self.q.load_state_dict(self.target.state_dict())\n",
        "    for step in range(1, max_steps + 1):\n",
        "      s,a,r,s2,t = self.replay_buffer.sample(self.batch_size, oversample=True)\n",
        "\n",
        "      s = s.to(device).float()\n",
        "      a = a.to(device).view(-1,1).long()\n",
        "      r = r.to(device).view(-1,1).float()\n",
        "      s2 = s2.to(device).float()\n",
        "      t = t.to(device).view(-1,1).float()\n",
        "\n",
        "      q_s = self.q(s)\n",
        "      q_sa = q_s.gather(1, a)\n",
        "\n",
        "      with torch.no_grad():\n",
        "        q_next = self.target(s2)\n",
        "        max_next = q_next.max(dim=1, keepdim=True).values\n",
        "        y = r + self.gamma * (1-t) * max_next\n",
        "\n",
        "      tdloss = self.loss(q_sa, y)\n",
        "\n",
        "      lse_all = torch.logsumexp(q_s, dim=1, keepdim=True)\n",
        "\n",
        "      # CQL penalty (conservativeness)\n",
        "      lse = torch.logsumexp(q_s, dim=1, keepdim=True)\n",
        "      cql_penalty = (lse - q_sa).mean()\n",
        "      cql_gap = (lse_all - q_sa).mean()\n",
        "      total_loss = tdloss + self.alpha * cql_penalty\n",
        "\n",
        "      self.optimiser.zero_grad(set_to_none=True)\n",
        "      total_loss.backward()\n",
        "      nn.utils.clip_grad_norm_(self.q.parameters(), 5.0)\n",
        "      self.optimiser.step()\n",
        "      self.update()\n",
        "\n",
        "      if (step + 1) % self.logevery == 0:\n",
        "        self.cache(step +1, float(total_loss.item()))\n",
        "\n",
        "      # if step % log_interval == 0:\n",
        "      #   with torch.no_grad():\n",
        "      #     avg_q_data = q_sa.mean().item()\n",
        "      #     avg_q_all = q_s.mean().item()\n",
        "      #   print(f\"step : {step} | loss : {total_loss.item()} | Temporal Difference : {tdloss.item()}\")\n",
        "      #   print(f\"CQL : {cql_penalty.item()} | Q(data) : {avg_q_data} | Q(all) : {avg_q_all}\")\n",
        "      #   print(f\"CQL GAP : {cql_gap.item()}\")\n",
        "\n",
        "\n",
        "    return self.q\n",
        "\n",
        "\n",
        "\n",
        "\n"
      ],
      "metadata": {
        "id": "pEJBCXdoO2Wd"
      },
      "execution_count": 123,
      "outputs": []
    },
    {
      "cell_type": "markdown",
      "source": [
        "# **Populate Replay Buffer**"
      ],
      "metadata": {
        "id": "pPf0SlvCP7yn"
      }
    },
    {
      "cell_type": "code",
      "source": [
        "state_dim = (oh_features.shape[1] if not sp.issparse(oh_features) else oh_features.shape[1]) + 3\n",
        "buf = ReplayBuffer(state_dim, n_transitions)\n",
        "\n"
      ],
      "metadata": {
        "id": "PNjQxSpb-NUH"
      },
      "execution_count": 124,
      "outputs": []
    },
    {
      "cell_type": "code",
      "source": [
        "print(data.columns)"
      ],
      "metadata": {
        "colab": {
          "base_uri": "https://localhost:8080/"
        },
        "id": "n3ibCoYnFiJ3",
        "outputId": "a376a6b0-e197-4813-c7fe-314ae1ba451f"
      },
      "execution_count": 125,
      "outputs": [
        {
          "output_type": "stream",
          "name": "stdout",
          "text": [
            "Index(['Row', 'Sample Name', 'Transaction Id', 'Anon Student Id', 'Session Id',\n",
            "       'Time', 'Time Zone', 'Duration (sec)', 'Student Response Type',\n",
            "       'Student Response Subtype', 'Tutor Response Type',\n",
            "       'Tutor Response Subtype', 'Level (Default)', 'Problem Name',\n",
            "       'Problem View', 'Problem Start Time', 'Step Name', 'Attempt At Step',\n",
            "       'Is Last Attempt', 'Outcome', 'Selection', 'Action', 'Input',\n",
            "       'Feedback Text', 'Feedback Classification', 'Help Level',\n",
            "       'Total Num Hints', 'Condition Name', 'Condition Type',\n",
            "       'Condition Name.1', 'Condition Type.1', 'KC (Tokens)',\n",
            "       'KC Category (Tokens)', 'KC (Single-KC)', 'KC Category (Single-KC)',\n",
            "       'KC (Unique-step)', 'KC Category (Unique-step)', 'KC (Tokens_Fewer)',\n",
            "       'KC Category (Tokens_Fewer)', 'KC (Tokens_more)',\n",
            "       'KC Category (Tokens_more)', 'KC (Operations)',\n",
            "       'KC Category (Operations)', 'KC (Operation 2)',\n",
            "       'KC Category (Operation 2)', 'School', 'Class', 'Event Type',\n",
            "       'next_outcome', 'next_cat', 'hint', 'beta', 'Elo', 'Reward', 'time_gap',\n",
            "       'hints_so_far', 'terminal', 'is_test', 'reward_next_attempt'],\n",
            "      dtype='object')\n"
          ]
        }
      ]
    },
    {
      "cell_type": "code",
      "source": [
        "\n",
        "\n",
        "use_theta = False\n",
        "use_timegap = True\n",
        "use_hintcount = True\n",
        "\n",
        "\n",
        "\n",
        "def encode_state(row_index: int) -> np.ndarray:\n",
        "  ''' Helper function to encode states as 1D vector for NN '''\n",
        "\n",
        "\n",
        "\n",
        "  if row_index in data.index:\n",
        "    label_index = row_index\n",
        "    pos_index = data.index.get_loc(row_index)\n",
        "  elif isinstance(row_index, (int, np.integer)) and 0 <= int(row_index) < len(data):\n",
        "    pos_index = int(row_index)\n",
        "\n",
        "    label_index = data.index[pos_index]\n",
        "  else:\n",
        "    print('ERROR')\n",
        "\n",
        "  if sp.issparse(oh_features):\n",
        "    one_hot = oh_features[row_index].toarray().ravel().astype(np.float32)\n",
        "  else:\n",
        "    one_hot = np.asarray(oh_features[row_index]).ravel().astype(np.float32)\n",
        "    if one_hot.ndim == 0:\n",
        "      one_hot = np.array([one_hot], dtype=np.float32)\n",
        "\n",
        "  sections = [one_hot]\n",
        "\n",
        "  if use_theta:\n",
        "    elo = float(data.at[row_index, 'Elo'])\n",
        "    sections.append(np.array([elo], dtype=np.float32))\n",
        "  if use_timegap:\n",
        "    time_gap = float(data.at[row_index, 'time_gap'] - time_mu) / (time_sigma + 1e-8)\n",
        "    sections.append(np.array([time_gap], dtype=np.float32))\n",
        "  if use_hintcount:\n",
        "    hints = float(data.at[row_index, 'hints_so_far'] - hint_mu) / (hint_sigma + 1e-8)\n",
        "    sections.append(np.array([hints], dtype=np.float32))\n",
        "\n",
        "\n",
        "  # elo = float(data.at[row_index, 'Elo'])\n",
        "  # time_gap = float(data.at[row_index, 'time_gap'] - time_mu) / (time_sigma + 1e-8)\n",
        "  # hints = float(data.at[row_index, 'hints_so_far'] - hint_mu) / (hint_sigma + 1e-8)\n",
        "  # extras = np.array([elo, time_gap, hints], dtype=np.float32)\n",
        "\n",
        "  return np.concatenate(sections, axis=0).astype(np.float32)\n",
        "\n"
      ],
      "metadata": {
        "id": "FUHLnqtrOi5C"
      },
      "execution_count": 136,
      "outputs": []
    },
    {
      "cell_type": "code",
      "source": [
        "sample_idx = data.loc[data['is_test']].index[0]\n",
        "state_dim = len(encode_state(sample_idx))\n",
        "\n",
        "buf = ReplayBuffer(buffer_size=n_transitions, state_dim=state_dim)"
      ],
      "metadata": {
        "id": "jQT7X3meCVly"
      },
      "execution_count": 138,
      "outputs": []
    },
    {
      "cell_type": "code",
      "source": [
        "# buf = ReplayBuffer(state_dim, buffer_size)\n",
        "\n",
        "# train split only\n",
        "count = 0\n",
        "for student, history in data[~data['is_test']].groupby('Anon Student Id'):\n",
        "\n",
        "  history = history.sort_values('Time').reset_index()\n",
        "\n",
        "  for j in range(len(history)-1):\n",
        "    x = history.loc[j, 'index']\n",
        "    y = history.loc[j+1, 'index']\n",
        "\n",
        "    s = encode_state(x)\n",
        "    a = int(data.at[x, 'hint'])\n",
        "    r = float(data.at[x, 'reward_next_attempt'])\n",
        "    s2 = encode_state(y)\n",
        "    t = float(data.at[y, 'terminal'])\n",
        "\n",
        "    buf.add(s, a, r, s2, t)\n",
        "    count += 1\n",
        "\n",
        "print(f\"Transitions expected {n_transitions} | Actual = {count}\")\n"
      ],
      "metadata": {
        "colab": {
          "base_uri": "https://localhost:8080/"
        },
        "id": "0PeDiUMmP-aw",
        "outputId": "a8b09964-7461-4295-8b33-1157e028b992"
      },
      "execution_count": 139,
      "outputs": [
        {
          "output_type": "stream",
          "name": "stdout",
          "text": [
            "Transitions expected 21491 | Actual = 21491\n"
          ]
        }
      ]
    },
    {
      "cell_type": "code",
      "source": [
        "print(data.groupby('hint')[\"reward_next_attempt\"].agg(['count', 'mean', 'std']))\n",
        "\n",
        "bins = pd.qcut(data[\"Elo\"], q=4, duplicates='drop')\n",
        "print(data.groupby([bins, 'hint'])['reward_next_attempt'].mean().unstack())"
      ],
      "metadata": {
        "id": "VNNJMiApVEzq",
        "colab": {
          "base_uri": "https://localhost:8080/"
        },
        "outputId": "f16330d1-501d-47e4-b513-a3a67e78f620"
      },
      "execution_count": 84,
      "outputs": [
        {
          "output_type": "stream",
          "name": "stdout",
          "text": [
            "      count      mean       std\n",
            "hint                           \n",
            "0     24308  0.000267  0.020985\n",
            "1      1190  0.000087  0.009577\n",
            "hint                     0         1\n",
            "Elo                                 \n",
            "(-2.041, -0.119] -0.001217  0.001437\n",
            "(-0.119, 0.114]   0.000225 -0.000204\n",
            "(0.114, 0.407]    0.001189 -0.000186\n",
            "(0.407, 1.435]    0.000851 -0.001518\n"
          ]
        },
        {
          "output_type": "stream",
          "name": "stderr",
          "text": [
            "/tmp/ipython-input-2866495303.py:4: FutureWarning: The default of observed=False is deprecated and will be changed to True in a future version of pandas. Pass observed=False to retain current behavior or observed=True to adopt the future default and silence this warning.\n",
            "  print(data.groupby([bins, 'hint'])['reward_next_attempt'].mean().unstack())\n"
          ]
        }
      ]
    },
    {
      "cell_type": "code",
      "source": [
        "agent = Agent(buf, lr, batch_size, alpha, gamma, tau)"
      ],
      "metadata": {
        "id": "XTsw938nLRwm"
      },
      "execution_count": 140,
      "outputs": []
    },
    {
      "cell_type": "code",
      "source": [
        "agent.prep_plot(buf, n_eval=512)\n",
        "agent.logevery = 500\n",
        "agent.train(steps)\n",
        "torch.save(agent.q.state_dict(), 'cql_q_no_theta.pt')"
      ],
      "metadata": {
        "id": "s0KDl8TdHBj7"
      },
      "execution_count": 141,
      "outputs": []
    },
    {
      "cell_type": "markdown",
      "source": [
        "# **Vanilla Offline DQN**"
      ],
      "metadata": {
        "id": "Egi8mS0Y7GjL"
      }
    },
    {
      "cell_type": "code",
      "source": [
        "agent = Agent(replay_buffer=buf, lr=lr, batch_size=batch_size, gamma=gamma, tau=tau, alpha=0)\n",
        "agent.prep_plot(buf, n_eval=512)\n",
        "agent.logevery = 500\n",
        "agent.train(steps)\n",
        "torch.save(agent.q.state_dict(), 'dqn_q.pt')"
      ],
      "metadata": {
        "id": "ci8PMeZ27ACH"
      },
      "execution_count": 114,
      "outputs": []
    },
    {
      "cell_type": "markdown",
      "source": [
        "# **Evaluation**"
      ],
      "metadata": {
        "id": "CWPPLV6j8Ktu"
      }
    },
    {
      "cell_type": "code",
      "source": [
        "def greedy_action(q_net, state):\n",
        "  with torch.no_grad():\n",
        "    s = torch.tensor(state, dtype=torch.float32).unsqueeze(0).to(device)\n",
        "    q = q_net(s)\n",
        "    a = int(torch.argmax(q, dim=1).item())\n",
        "  return a"
      ],
      "metadata": {
        "id": "DVCjY38B8f2-"
      },
      "execution_count": 106,
      "outputs": []
    },
    {
      "cell_type": "code",
      "source": [],
      "metadata": {
        "id": "P6w-1HXo8aqa"
      },
      "execution_count": 88,
      "outputs": []
    },
    {
      "cell_type": "code",
      "source": [],
      "metadata": {
        "colab": {
          "base_uri": "https://localhost:8080/"
        },
        "id": "kW_I4bZ_8KRK",
        "outputId": "35f0b0f2-5402-4153-babe-64808819090b"
      },
      "execution_count": 89,
      "outputs": [
        {
          "output_type": "stream",
          "name": "stdout",
          "text": [
            "CQL test mean : 0.0741518007914083, hint rate :  0.09331339289228226\n"
          ]
        }
      ]
    },
    {
      "cell_type": "code",
      "source": [
        "# run through the episodes + update network based on benchmark policies to estimate Q for these baselines\n",
        "# new instance of network for each\n",
        "\n",
        "# fixed q evaluation\n",
        "def FQE(policy, data, encode_state, thresh, steps, batch_size, lr, gamma, oversample, q_ref=None):\n",
        "\n",
        "  def build_policy(q_network: torch.nn.Module):\n",
        "    def policy_fn(next_states: torch.Tensor):\n",
        "      if policy == 'always_hint':\n",
        "        return torch.ones(next_states.shape[0], dtype=torch.long, device=next_states.device)\n",
        "      elif policy == 'never_hint':\n",
        "        return torch.zeros(next_states.shape[0], dtype=torch.long, device=next_states.device)\n",
        "      elif policy == 'theta_thresh':\n",
        "        theta_idx = next_states.shape[1] - 3\n",
        "        elo = next_states[:, theta_idx]\n",
        "        return (elo < float(thresh)).long()\n",
        "      elif policy == 'greedy':\n",
        "        with torch.no_grad():\n",
        "          qvals = q_ref(next_states)\n",
        "          return torch.argmax(qvals, dim=1)\n",
        "      else:\n",
        "        print('error')\n",
        "        return\n",
        "    return policy_fn\n",
        "\n",
        "  state_dim = buf.states.shape[1]\n",
        "  q = Network(state_dim).to(device)\n",
        "  target = Network(state_dim).to(device)\n",
        "  target.load_state_dict(q.state_dict())\n",
        "\n",
        "  optimiser = torch.optim.Adam(q.parameters(), lr=lr)\n",
        "  mse = torch.nn.MSELoss()\n",
        "  tau = 5e-3\n",
        "\n",
        "  policy_fn = build_policy(q)\n",
        "\n",
        "  q.train()\n",
        "  target.eval()\n",
        "\n",
        "\n",
        "  for i in range(steps):\n",
        "    (s,a,r,s2,t) = buf.sample(batch_size, oversample=oversample)\n",
        "\n",
        "    s = s.to(device).float()\n",
        "    a = a.to(device).long()\n",
        "    r = r.to(device).float()\n",
        "    s2 = s2.to(device).float()\n",
        "    t = t.to(device).float()\n",
        "\n",
        "    with torch.no_grad():\n",
        "      a2_policy = policy_fn(s2)\n",
        "      q_next = target(s2)\n",
        "      q_next_policy = q_next.gather(1, a2_policy.unsqueeze(1)).squeeze(1)\n",
        "      y = r + gamma * (1-t) * q_next_policy\n",
        "\n",
        "    q_sa = q(s).gather(1, a.unsqueeze(1)).squeeze(1)\n",
        "    loss = mse(q_sa, y)\n",
        "\n",
        "    optimiser.zero_grad()\n",
        "    loss.backward()\n",
        "    optimiser.step()\n",
        "\n",
        "    with torch.no_grad():\n",
        "      for tp, p in zip(target.parameters(), q.parameters()):\n",
        "        tp.data.mul_(1-tau).add(tau * p.data)\n",
        "\n",
        "  q.eval()\n",
        "\n",
        "\n",
        "  # Evaluate policy now\n",
        "\n",
        "  start_indices = []\n",
        "\n",
        "  for student, history in data.groupby('Anon Student Id'):\n",
        "    history = history.sort_values(\"Time\").reset_index()\n",
        "    if len(history) < 2:\n",
        "      continue\n",
        "    j = int(history.loc[0, 'index'])\n",
        "    start_indices.append(j)\n",
        "\n",
        "    if not start_indices:\n",
        "      print('ERROR')\n",
        "\n",
        "\n",
        "    start_states_np = np.stack([encode_state(j) for j in start_indices], axis=0).astype(np.float32)\n",
        "    start_states = torch.from_numpy(start_states_np).to(device)\n",
        "\n",
        "    with torch.no_grad():\n",
        "      a = policy_fn(start_states)\n",
        "      q_all = q(start_states)\n",
        "      v = q_all.gather(1, a.unsqueeze(1)).squeeze(1)\n",
        "\n",
        "    mean_value = float(v.mean().item())\n",
        "\n",
        "  return {'Mean Reward' : mean_value, \"Details\" : {'Policy Name' : policy}}"
      ],
      "metadata": {
        "id": "Y7RXrNF4H_8-"
      },
      "execution_count": 92,
      "outputs": []
    },
    {
      "cell_type": "code",
      "source": [
        "b1 = FQE('always_hint', data, encode_state, steps=5000, lr=lr, gamma=gamma, oversample=False, thresh=None, batch_size=batch_size)\n",
        "b2 = FQE('never_hint', data, encode_state, steps=5000,lr=lr, gamma=gamma, oversample=True, thresh=None, batch_size=batch_size)\n",
        "b3 = FQE('theta_thresh', data, encode_state, thresh=-0.5, steps=5000,lr=lr, gamma=gamma, oversample=True, batch_size=batch_size)\n",
        "\n",
        "greedy = FQE('greedy', data, encode_state, thresh=None, steps=5000,lr=lr, gamma=gamma, oversample=True, batch_size=batch_size, q_ref=agent.q)"
      ],
      "metadata": {
        "colab": {
          "base_uri": "https://localhost:8080/",
          "height": 356
        },
        "id": "xtYx6IF_DbqZ",
        "outputId": "4febec4b-2d8f-49e8-c4c0-1273a437cd7f"
      },
      "execution_count": 91,
      "outputs": [
        {
          "output_type": "error",
          "ename": "KeyboardInterrupt",
          "evalue": "",
          "traceback": [
            "\u001b[0;31m---------------------------------------------------------------------------\u001b[0m",
            "\u001b[0;31mKeyboardInterrupt\u001b[0m                         Traceback (most recent call last)",
            "\u001b[0;32m/tmp/ipython-input-253156180.py\u001b[0m in \u001b[0;36m<cell line: 0>\u001b[0;34m()\u001b[0m\n\u001b[0;32m----> 1\u001b[0;31m \u001b[0mb1\u001b[0m \u001b[0;34m=\u001b[0m \u001b[0mFQE\u001b[0m\u001b[0;34m(\u001b[0m\u001b[0;34m'always_hint'\u001b[0m\u001b[0;34m,\u001b[0m \u001b[0mdata\u001b[0m\u001b[0;34m,\u001b[0m \u001b[0mencode_state\u001b[0m\u001b[0;34m,\u001b[0m \u001b[0msteps\u001b[0m\u001b[0;34m=\u001b[0m\u001b[0;36m5000\u001b[0m\u001b[0;34m,\u001b[0m \u001b[0mlr\u001b[0m\u001b[0;34m=\u001b[0m\u001b[0mlr\u001b[0m\u001b[0;34m,\u001b[0m \u001b[0mgamma\u001b[0m\u001b[0;34m=\u001b[0m\u001b[0mgamma\u001b[0m\u001b[0;34m,\u001b[0m \u001b[0moversample\u001b[0m\u001b[0;34m=\u001b[0m\u001b[0;32mFalse\u001b[0m\u001b[0;34m,\u001b[0m \u001b[0mthresh\u001b[0m\u001b[0;34m=\u001b[0m\u001b[0;32mNone\u001b[0m\u001b[0;34m,\u001b[0m \u001b[0mbatch_size\u001b[0m\u001b[0;34m=\u001b[0m\u001b[0mbatch_size\u001b[0m\u001b[0;34m)\u001b[0m\u001b[0;34m\u001b[0m\u001b[0;34m\u001b[0m\u001b[0m\n\u001b[0m\u001b[1;32m      2\u001b[0m \u001b[0mb2\u001b[0m \u001b[0;34m=\u001b[0m \u001b[0mFQE\u001b[0m\u001b[0;34m(\u001b[0m\u001b[0;34m'never_hint'\u001b[0m\u001b[0;34m,\u001b[0m \u001b[0mdata\u001b[0m\u001b[0;34m,\u001b[0m \u001b[0mencode_state\u001b[0m\u001b[0;34m,\u001b[0m \u001b[0msteps\u001b[0m\u001b[0;34m=\u001b[0m\u001b[0;36m5000\u001b[0m\u001b[0;34m,\u001b[0m\u001b[0mlr\u001b[0m\u001b[0;34m=\u001b[0m\u001b[0mlr\u001b[0m\u001b[0;34m,\u001b[0m \u001b[0mgamma\u001b[0m\u001b[0;34m=\u001b[0m\u001b[0mgamma\u001b[0m\u001b[0;34m,\u001b[0m \u001b[0moversample\u001b[0m\u001b[0;34m=\u001b[0m\u001b[0;32mTrue\u001b[0m\u001b[0;34m,\u001b[0m \u001b[0mthresh\u001b[0m\u001b[0;34m=\u001b[0m\u001b[0;32mNone\u001b[0m\u001b[0;34m,\u001b[0m \u001b[0mbatch_size\u001b[0m\u001b[0;34m=\u001b[0m\u001b[0mbatch_size\u001b[0m\u001b[0;34m)\u001b[0m\u001b[0;34m\u001b[0m\u001b[0;34m\u001b[0m\u001b[0m\n\u001b[1;32m      3\u001b[0m \u001b[0mb3\u001b[0m \u001b[0;34m=\u001b[0m \u001b[0mFQE\u001b[0m\u001b[0;34m(\u001b[0m\u001b[0;34m'theta_thresh'\u001b[0m\u001b[0;34m,\u001b[0m \u001b[0mdata\u001b[0m\u001b[0;34m,\u001b[0m \u001b[0mencode_state\u001b[0m\u001b[0;34m,\u001b[0m \u001b[0mthresh\u001b[0m\u001b[0;34m=\u001b[0m\u001b[0;34m-\u001b[0m\u001b[0;36m0.5\u001b[0m\u001b[0;34m,\u001b[0m \u001b[0msteps\u001b[0m\u001b[0;34m=\u001b[0m\u001b[0;36m5000\u001b[0m\u001b[0;34m,\u001b[0m\u001b[0mlr\u001b[0m\u001b[0;34m=\u001b[0m\u001b[0mlr\u001b[0m\u001b[0;34m,\u001b[0m \u001b[0mgamma\u001b[0m\u001b[0;34m=\u001b[0m\u001b[0mgamma\u001b[0m\u001b[0;34m,\u001b[0m \u001b[0moversample\u001b[0m\u001b[0;34m=\u001b[0m\u001b[0;32mTrue\u001b[0m\u001b[0;34m,\u001b[0m \u001b[0mbatch_size\u001b[0m\u001b[0;34m=\u001b[0m\u001b[0mbatch_size\u001b[0m\u001b[0;34m)\u001b[0m\u001b[0;34m\u001b[0m\u001b[0;34m\u001b[0m\u001b[0m\n\u001b[1;32m      4\u001b[0m \u001b[0;34m\u001b[0m\u001b[0m\n\u001b[1;32m      5\u001b[0m \u001b[0mgreedy\u001b[0m \u001b[0;34m=\u001b[0m \u001b[0mFQE\u001b[0m\u001b[0;34m(\u001b[0m\u001b[0;34m'greedy'\u001b[0m\u001b[0;34m,\u001b[0m \u001b[0mdata\u001b[0m\u001b[0;34m,\u001b[0m \u001b[0mencode_state\u001b[0m\u001b[0;34m,\u001b[0m \u001b[0mthresh\u001b[0m\u001b[0;34m=\u001b[0m\u001b[0;32mNone\u001b[0m\u001b[0;34m,\u001b[0m \u001b[0msteps\u001b[0m\u001b[0;34m=\u001b[0m\u001b[0;36m5000\u001b[0m\u001b[0;34m,\u001b[0m\u001b[0mlr\u001b[0m\u001b[0;34m=\u001b[0m\u001b[0mlr\u001b[0m\u001b[0;34m,\u001b[0m \u001b[0mgamma\u001b[0m\u001b[0;34m=\u001b[0m\u001b[0mgamma\u001b[0m\u001b[0;34m,\u001b[0m \u001b[0moversample\u001b[0m\u001b[0;34m=\u001b[0m\u001b[0;32mTrue\u001b[0m\u001b[0;34m,\u001b[0m \u001b[0mbatch_size\u001b[0m\u001b[0;34m=\u001b[0m\u001b[0mbatch_size\u001b[0m\u001b[0;34m,\u001b[0m \u001b[0mq_ref\u001b[0m\u001b[0;34m=\u001b[0m\u001b[0magent\u001b[0m\u001b[0;34m.\u001b[0m\u001b[0mq\u001b[0m\u001b[0;34m)\u001b[0m\u001b[0;34m\u001b[0m\u001b[0;34m\u001b[0m\u001b[0m\n",
            "\u001b[0;32m/tmp/ipython-input-1556958549.py\u001b[0m in \u001b[0;36mFQE\u001b[0;34m(policy, data, encode_state, thresh, steps, batch_size, lr, gamma, oversample, q_ref)\u001b[0m\n\u001b[1;32m     54\u001b[0m       \u001b[0my\u001b[0m \u001b[0;34m=\u001b[0m \u001b[0mr\u001b[0m \u001b[0;34m+\u001b[0m \u001b[0mgamma\u001b[0m \u001b[0;34m*\u001b[0m \u001b[0;34m(\u001b[0m\u001b[0;36m1\u001b[0m\u001b[0;34m-\u001b[0m\u001b[0mt\u001b[0m\u001b[0;34m)\u001b[0m \u001b[0;34m*\u001b[0m \u001b[0mq_next_policy\u001b[0m\u001b[0;34m\u001b[0m\u001b[0;34m\u001b[0m\u001b[0m\n\u001b[1;32m     55\u001b[0m \u001b[0;34m\u001b[0m\u001b[0m\n\u001b[0;32m---> 56\u001b[0;31m     \u001b[0mq_sa\u001b[0m \u001b[0;34m=\u001b[0m \u001b[0mq\u001b[0m\u001b[0;34m(\u001b[0m\u001b[0ms\u001b[0m\u001b[0;34m)\u001b[0m\u001b[0;34m.\u001b[0m\u001b[0mgather\u001b[0m\u001b[0;34m(\u001b[0m\u001b[0;36m1\u001b[0m\u001b[0;34m,\u001b[0m \u001b[0ma\u001b[0m\u001b[0;34m.\u001b[0m\u001b[0munsqueeze\u001b[0m\u001b[0;34m(\u001b[0m\u001b[0;36m1\u001b[0m\u001b[0;34m)\u001b[0m\u001b[0;34m)\u001b[0m\u001b[0;34m.\u001b[0m\u001b[0msqueeze\u001b[0m\u001b[0;34m(\u001b[0m\u001b[0;36m1\u001b[0m\u001b[0;34m)\u001b[0m\u001b[0;34m\u001b[0m\u001b[0;34m\u001b[0m\u001b[0m\n\u001b[0m\u001b[1;32m     57\u001b[0m     \u001b[0mloss\u001b[0m \u001b[0;34m=\u001b[0m \u001b[0mmse\u001b[0m\u001b[0;34m(\u001b[0m\u001b[0mq_sa\u001b[0m\u001b[0;34m,\u001b[0m \u001b[0my\u001b[0m\u001b[0;34m)\u001b[0m\u001b[0;34m\u001b[0m\u001b[0;34m\u001b[0m\u001b[0m\n\u001b[1;32m     58\u001b[0m \u001b[0;34m\u001b[0m\u001b[0m\n",
            "\u001b[0;32m/usr/local/lib/python3.12/dist-packages/torch/nn/modules/module.py\u001b[0m in \u001b[0;36m_wrapped_call_impl\u001b[0;34m(self, *args, **kwargs)\u001b[0m\n\u001b[1;32m   1771\u001b[0m             \u001b[0;32mreturn\u001b[0m \u001b[0mself\u001b[0m\u001b[0;34m.\u001b[0m\u001b[0m_compiled_call_impl\u001b[0m\u001b[0;34m(\u001b[0m\u001b[0;34m*\u001b[0m\u001b[0margs\u001b[0m\u001b[0;34m,\u001b[0m \u001b[0;34m**\u001b[0m\u001b[0mkwargs\u001b[0m\u001b[0;34m)\u001b[0m  \u001b[0;31m# type: ignore[misc]\u001b[0m\u001b[0;34m\u001b[0m\u001b[0;34m\u001b[0m\u001b[0m\n\u001b[1;32m   1772\u001b[0m         \u001b[0;32melse\u001b[0m\u001b[0;34m:\u001b[0m\u001b[0;34m\u001b[0m\u001b[0;34m\u001b[0m\u001b[0m\n\u001b[0;32m-> 1773\u001b[0;31m             \u001b[0;32mreturn\u001b[0m \u001b[0mself\u001b[0m\u001b[0;34m.\u001b[0m\u001b[0m_call_impl\u001b[0m\u001b[0;34m(\u001b[0m\u001b[0;34m*\u001b[0m\u001b[0margs\u001b[0m\u001b[0;34m,\u001b[0m \u001b[0;34m**\u001b[0m\u001b[0mkwargs\u001b[0m\u001b[0;34m)\u001b[0m\u001b[0;34m\u001b[0m\u001b[0;34m\u001b[0m\u001b[0m\n\u001b[0m\u001b[1;32m   1774\u001b[0m \u001b[0;34m\u001b[0m\u001b[0m\n\u001b[1;32m   1775\u001b[0m     \u001b[0;31m# torchrec tests the code consistency with the following code\u001b[0m\u001b[0;34m\u001b[0m\u001b[0;34m\u001b[0m\u001b[0m\n",
            "\u001b[0;32m/usr/local/lib/python3.12/dist-packages/torch/nn/modules/module.py\u001b[0m in \u001b[0;36m_call_impl\u001b[0;34m(self, *args, **kwargs)\u001b[0m\n\u001b[1;32m   1782\u001b[0m                 \u001b[0;32mor\u001b[0m \u001b[0m_global_backward_pre_hooks\u001b[0m \u001b[0;32mor\u001b[0m \u001b[0m_global_backward_hooks\u001b[0m\u001b[0;34m\u001b[0m\u001b[0;34m\u001b[0m\u001b[0m\n\u001b[1;32m   1783\u001b[0m                 or _global_forward_hooks or _global_forward_pre_hooks):\n\u001b[0;32m-> 1784\u001b[0;31m             \u001b[0;32mreturn\u001b[0m \u001b[0mforward_call\u001b[0m\u001b[0;34m(\u001b[0m\u001b[0;34m*\u001b[0m\u001b[0margs\u001b[0m\u001b[0;34m,\u001b[0m \u001b[0;34m**\u001b[0m\u001b[0mkwargs\u001b[0m\u001b[0;34m)\u001b[0m\u001b[0;34m\u001b[0m\u001b[0;34m\u001b[0m\u001b[0m\n\u001b[0m\u001b[1;32m   1785\u001b[0m \u001b[0;34m\u001b[0m\u001b[0m\n\u001b[1;32m   1786\u001b[0m         \u001b[0mresult\u001b[0m \u001b[0;34m=\u001b[0m \u001b[0;32mNone\u001b[0m\u001b[0;34m\u001b[0m\u001b[0;34m\u001b[0m\u001b[0m\n",
            "\u001b[0;32m/tmp/ipython-input-1721025639.py\u001b[0m in \u001b[0;36mforward\u001b[0;34m(self, x)\u001b[0m\n\u001b[1;32m     10\u001b[0m     \u001b[0mx\u001b[0m \u001b[0;34m=\u001b[0m \u001b[0mself\u001b[0m\u001b[0;34m.\u001b[0m\u001b[0mrelu\u001b[0m\u001b[0;34m(\u001b[0m\u001b[0mself\u001b[0m\u001b[0;34m.\u001b[0m\u001b[0mfc1\u001b[0m\u001b[0;34m(\u001b[0m\u001b[0mx\u001b[0m\u001b[0;34m)\u001b[0m\u001b[0;34m)\u001b[0m\u001b[0;34m\u001b[0m\u001b[0;34m\u001b[0m\u001b[0m\n\u001b[1;32m     11\u001b[0m     \u001b[0mx\u001b[0m \u001b[0;34m=\u001b[0m \u001b[0mself\u001b[0m\u001b[0;34m.\u001b[0m\u001b[0mrelu\u001b[0m\u001b[0;34m(\u001b[0m\u001b[0mself\u001b[0m\u001b[0;34m.\u001b[0m\u001b[0mfc2\u001b[0m\u001b[0;34m(\u001b[0m\u001b[0mx\u001b[0m\u001b[0;34m)\u001b[0m\u001b[0;34m)\u001b[0m\u001b[0;34m\u001b[0m\u001b[0;34m\u001b[0m\u001b[0m\n\u001b[0;32m---> 12\u001b[0;31m     \u001b[0;32mreturn\u001b[0m \u001b[0mself\u001b[0m\u001b[0;34m.\u001b[0m\u001b[0mfc3\u001b[0m\u001b[0;34m(\u001b[0m\u001b[0mx\u001b[0m\u001b[0;34m)\u001b[0m\u001b[0;34m\u001b[0m\u001b[0;34m\u001b[0m\u001b[0m\n\u001b[0m",
            "\u001b[0;32m/usr/local/lib/python3.12/dist-packages/torch/nn/modules/module.py\u001b[0m in \u001b[0;36m_wrapped_call_impl\u001b[0;34m(self, *args, **kwargs)\u001b[0m\n\u001b[1;32m   1771\u001b[0m             \u001b[0;32mreturn\u001b[0m \u001b[0mself\u001b[0m\u001b[0;34m.\u001b[0m\u001b[0m_compiled_call_impl\u001b[0m\u001b[0;34m(\u001b[0m\u001b[0;34m*\u001b[0m\u001b[0margs\u001b[0m\u001b[0;34m,\u001b[0m \u001b[0;34m**\u001b[0m\u001b[0mkwargs\u001b[0m\u001b[0;34m)\u001b[0m  \u001b[0;31m# type: ignore[misc]\u001b[0m\u001b[0;34m\u001b[0m\u001b[0;34m\u001b[0m\u001b[0m\n\u001b[1;32m   1772\u001b[0m         \u001b[0;32melse\u001b[0m\u001b[0;34m:\u001b[0m\u001b[0;34m\u001b[0m\u001b[0;34m\u001b[0m\u001b[0m\n\u001b[0;32m-> 1773\u001b[0;31m             \u001b[0;32mreturn\u001b[0m \u001b[0mself\u001b[0m\u001b[0;34m.\u001b[0m\u001b[0m_call_impl\u001b[0m\u001b[0;34m(\u001b[0m\u001b[0;34m*\u001b[0m\u001b[0margs\u001b[0m\u001b[0;34m,\u001b[0m \u001b[0;34m**\u001b[0m\u001b[0mkwargs\u001b[0m\u001b[0;34m)\u001b[0m\u001b[0;34m\u001b[0m\u001b[0;34m\u001b[0m\u001b[0m\n\u001b[0m\u001b[1;32m   1774\u001b[0m \u001b[0;34m\u001b[0m\u001b[0m\n\u001b[1;32m   1775\u001b[0m     \u001b[0;31m# torchrec tests the code consistency with the following code\u001b[0m\u001b[0;34m\u001b[0m\u001b[0;34m\u001b[0m\u001b[0m\n",
            "\u001b[0;32m/usr/local/lib/python3.12/dist-packages/torch/nn/modules/module.py\u001b[0m in \u001b[0;36m_call_impl\u001b[0;34m(self, *args, **kwargs)\u001b[0m\n\u001b[1;32m   1782\u001b[0m                 \u001b[0;32mor\u001b[0m \u001b[0m_global_backward_pre_hooks\u001b[0m \u001b[0;32mor\u001b[0m \u001b[0m_global_backward_hooks\u001b[0m\u001b[0;34m\u001b[0m\u001b[0;34m\u001b[0m\u001b[0m\n\u001b[1;32m   1783\u001b[0m                 or _global_forward_hooks or _global_forward_pre_hooks):\n\u001b[0;32m-> 1784\u001b[0;31m             \u001b[0;32mreturn\u001b[0m \u001b[0mforward_call\u001b[0m\u001b[0;34m(\u001b[0m\u001b[0;34m*\u001b[0m\u001b[0margs\u001b[0m\u001b[0;34m,\u001b[0m \u001b[0;34m**\u001b[0m\u001b[0mkwargs\u001b[0m\u001b[0;34m)\u001b[0m\u001b[0;34m\u001b[0m\u001b[0;34m\u001b[0m\u001b[0m\n\u001b[0m\u001b[1;32m   1785\u001b[0m \u001b[0;34m\u001b[0m\u001b[0m\n\u001b[1;32m   1786\u001b[0m         \u001b[0mresult\u001b[0m \u001b[0;34m=\u001b[0m \u001b[0;32mNone\u001b[0m\u001b[0;34m\u001b[0m\u001b[0;34m\u001b[0m\u001b[0m\n",
            "\u001b[0;32m/usr/local/lib/python3.12/dist-packages/torch/nn/modules/linear.py\u001b[0m in \u001b[0;36mforward\u001b[0;34m(self, input)\u001b[0m\n\u001b[1;32m    123\u001b[0m \u001b[0;34m\u001b[0m\u001b[0m\n\u001b[1;32m    124\u001b[0m     \u001b[0;32mdef\u001b[0m \u001b[0mforward\u001b[0m\u001b[0;34m(\u001b[0m\u001b[0mself\u001b[0m\u001b[0;34m,\u001b[0m \u001b[0minput\u001b[0m\u001b[0;34m:\u001b[0m \u001b[0mTensor\u001b[0m\u001b[0;34m)\u001b[0m \u001b[0;34m->\u001b[0m \u001b[0mTensor\u001b[0m\u001b[0;34m:\u001b[0m\u001b[0;34m\u001b[0m\u001b[0;34m\u001b[0m\u001b[0m\n\u001b[0;32m--> 125\u001b[0;31m         \u001b[0;32mreturn\u001b[0m \u001b[0mF\u001b[0m\u001b[0;34m.\u001b[0m\u001b[0mlinear\u001b[0m\u001b[0;34m(\u001b[0m\u001b[0minput\u001b[0m\u001b[0;34m,\u001b[0m \u001b[0mself\u001b[0m\u001b[0;34m.\u001b[0m\u001b[0mweight\u001b[0m\u001b[0;34m,\u001b[0m \u001b[0mself\u001b[0m\u001b[0;34m.\u001b[0m\u001b[0mbias\u001b[0m\u001b[0;34m)\u001b[0m\u001b[0;34m\u001b[0m\u001b[0;34m\u001b[0m\u001b[0m\n\u001b[0m\u001b[1;32m    126\u001b[0m \u001b[0;34m\u001b[0m\u001b[0m\n\u001b[1;32m    127\u001b[0m     \u001b[0;32mdef\u001b[0m \u001b[0mextra_repr\u001b[0m\u001b[0;34m(\u001b[0m\u001b[0mself\u001b[0m\u001b[0;34m)\u001b[0m \u001b[0;34m->\u001b[0m \u001b[0mstr\u001b[0m\u001b[0;34m:\u001b[0m\u001b[0;34m\u001b[0m\u001b[0;34m\u001b[0m\u001b[0m\n",
            "\u001b[0;31mKeyboardInterrupt\u001b[0m: "
          ]
        }
      ]
    },
    {
      "cell_type": "code",
      "source": [
        "print(b1)\n",
        "print(b2)\n",
        "print(b3)"
      ],
      "metadata": {
        "colab": {
          "base_uri": "https://localhost:8080/"
        },
        "id": "Bd20UgE4ETLW",
        "outputId": "9b8d871f-3aaa-4ad3-db4b-5b94a9f5cd5f"
      },
      "execution_count": 80,
      "outputs": [
        {
          "output_type": "stream",
          "name": "stdout",
          "text": [
            "{'Mean Reward': -0.00042746085091494024, 'Details': {'Policy Name': 'always_hint'}}\n",
            "{'Mean Reward': 0.0007385886856354773, 'Details': {'Policy Name': 'never_hint'}}\n",
            "{'Mean Reward': 0.0019857122097164392, 'Details': {'Policy Name': 'theta_thresh'}}\n"
          ]
        }
      ]
    },
    {
      "cell_type": "code",
      "source": [
        "greedy = FQE('greedy', data, encode_state, thresh=None, steps=5000,lr=lr, gamma=gamma, oversample=True, batch_size=batch_size, q_ref=agent.q)"
      ],
      "metadata": {
        "id": "VxDObTAiurAD"
      },
      "execution_count": 142,
      "outputs": []
    },
    {
      "cell_type": "code",
      "source": [
        "print(greedy)"
      ],
      "metadata": {
        "colab": {
          "base_uri": "https://localhost:8080/"
        },
        "id": "2A4O7kevutSd",
        "outputId": "17593ada-297a-4976-944d-46f85fb84e38"
      },
      "execution_count": 143,
      "outputs": [
        {
          "output_type": "stream",
          "name": "stdout",
          "text": [
            "{'Mean Reward': 0.0026496846694499254, 'Details': {'Policy Name': 'greedy'}}\n"
          ]
        }
      ]
    },
    {
      "cell_type": "code",
      "source": [
        "data[data['is_test']].head()"
      ],
      "metadata": {
        "colab": {
          "base_uri": "https://localhost:8080/",
          "height": 444
        },
        "id": "QZE937IoD1Bz",
        "outputId": "5cbecc3b-badd-48bd-c0e5-c8582b8bfbbf"
      },
      "execution_count": 36,
      "outputs": [
        {
          "output_type": "execute_result",
          "data": {
            "text/plain": [
              "   Row Sample Name                    Transaction Id Anon Student Id  \\\n",
              "0    1    All Data  f48cba2510087c502dde920d948b364b            S002   \n",
              "1    2    All Data  2e2674c362ab346b56735759d7754b7f            S002   \n",
              "2    3    All Data  7f7d2e12b4cc5fc53472d390b21dd624            S002   \n",
              "3    4    All Data  978a103b1e84307bacd12fb88606f857            S002   \n",
              "4    5    All Data  831b85657c909543fff48c06c076eac2            S002   \n",
              "\n",
              "   Session Id                Time  Time Zone Duration (sec)  \\\n",
              "0           1 2016-02-05 19:46:00        NaN              0   \n",
              "1           1 2016-02-05 19:46:00        NaN              0   \n",
              "2           1 2016-02-05 19:46:00        NaN              0   \n",
              "3           1 2016-02-05 19:46:00        NaN              0   \n",
              "4           1 2016-02-05 19:46:00        NaN              0   \n",
              "\n",
              "  Student Response Type  Student Response Subtype  ...        next_cat  hint  \\\n",
              "0               ATTEMPT                       NaN  ...  next_incorrect     0   \n",
              "1               ATTEMPT                       NaN  ...    next_correct     0   \n",
              "2               ATTEMPT                       NaN  ...    next_correct     0   \n",
              "3               ATTEMPT                       NaN  ...    next_correct     0   \n",
              "4               ATTEMPT                       NaN  ...    next_correct     0   \n",
              "\n",
              "       beta       Elo    Reward time_gap hints_so_far  terminal  is_test  \\\n",
              "0 -0.127262  0.023411  0.023411      0.0            0     False     True   \n",
              "1 -0.127262 -0.003468 -0.026880      0.0            0     False     True   \n",
              "2 -0.127262  0.019986  0.023455      0.0            0     False     True   \n",
              "3 -0.127262  0.043149  0.023163      0.0            0     False     True   \n",
              "4 -0.127262  0.066024  0.022875      0.0            0     False     True   \n",
              "\n",
              "  reward_next_attempt  \n",
              "0           -0.026880  \n",
              "1            0.023455  \n",
              "2            0.023163  \n",
              "3            0.022875  \n",
              "4            0.022591  \n",
              "\n",
              "[5 rows x 59 columns]"
            ],
            "text/html": [
              "\n",
              "  <div id=\"df-f51ad1c1-e7e3-4a55-9c47-eabf7091e7b6\" class=\"colab-df-container\">\n",
              "    <div>\n",
              "<style scoped>\n",
              "    .dataframe tbody tr th:only-of-type {\n",
              "        vertical-align: middle;\n",
              "    }\n",
              "\n",
              "    .dataframe tbody tr th {\n",
              "        vertical-align: top;\n",
              "    }\n",
              "\n",
              "    .dataframe thead th {\n",
              "        text-align: right;\n",
              "    }\n",
              "</style>\n",
              "<table border=\"1\" class=\"dataframe\">\n",
              "  <thead>\n",
              "    <tr style=\"text-align: right;\">\n",
              "      <th></th>\n",
              "      <th>Row</th>\n",
              "      <th>Sample Name</th>\n",
              "      <th>Transaction Id</th>\n",
              "      <th>Anon Student Id</th>\n",
              "      <th>Session Id</th>\n",
              "      <th>Time</th>\n",
              "      <th>Time Zone</th>\n",
              "      <th>Duration (sec)</th>\n",
              "      <th>Student Response Type</th>\n",
              "      <th>Student Response Subtype</th>\n",
              "      <th>...</th>\n",
              "      <th>next_cat</th>\n",
              "      <th>hint</th>\n",
              "      <th>beta</th>\n",
              "      <th>Elo</th>\n",
              "      <th>Reward</th>\n",
              "      <th>time_gap</th>\n",
              "      <th>hints_so_far</th>\n",
              "      <th>terminal</th>\n",
              "      <th>is_test</th>\n",
              "      <th>reward_next_attempt</th>\n",
              "    </tr>\n",
              "  </thead>\n",
              "  <tbody>\n",
              "    <tr>\n",
              "      <th>0</th>\n",
              "      <td>1</td>\n",
              "      <td>All Data</td>\n",
              "      <td>f48cba2510087c502dde920d948b364b</td>\n",
              "      <td>S002</td>\n",
              "      <td>1</td>\n",
              "      <td>2016-02-05 19:46:00</td>\n",
              "      <td>NaN</td>\n",
              "      <td>0</td>\n",
              "      <td>ATTEMPT</td>\n",
              "      <td>NaN</td>\n",
              "      <td>...</td>\n",
              "      <td>next_incorrect</td>\n",
              "      <td>0</td>\n",
              "      <td>-0.127262</td>\n",
              "      <td>0.023411</td>\n",
              "      <td>0.023411</td>\n",
              "      <td>0.0</td>\n",
              "      <td>0</td>\n",
              "      <td>False</td>\n",
              "      <td>True</td>\n",
              "      <td>-0.026880</td>\n",
              "    </tr>\n",
              "    <tr>\n",
              "      <th>1</th>\n",
              "      <td>2</td>\n",
              "      <td>All Data</td>\n",
              "      <td>2e2674c362ab346b56735759d7754b7f</td>\n",
              "      <td>S002</td>\n",
              "      <td>1</td>\n",
              "      <td>2016-02-05 19:46:00</td>\n",
              "      <td>NaN</td>\n",
              "      <td>0</td>\n",
              "      <td>ATTEMPT</td>\n",
              "      <td>NaN</td>\n",
              "      <td>...</td>\n",
              "      <td>next_correct</td>\n",
              "      <td>0</td>\n",
              "      <td>-0.127262</td>\n",
              "      <td>-0.003468</td>\n",
              "      <td>-0.026880</td>\n",
              "      <td>0.0</td>\n",
              "      <td>0</td>\n",
              "      <td>False</td>\n",
              "      <td>True</td>\n",
              "      <td>0.023455</td>\n",
              "    </tr>\n",
              "    <tr>\n",
              "      <th>2</th>\n",
              "      <td>3</td>\n",
              "      <td>All Data</td>\n",
              "      <td>7f7d2e12b4cc5fc53472d390b21dd624</td>\n",
              "      <td>S002</td>\n",
              "      <td>1</td>\n",
              "      <td>2016-02-05 19:46:00</td>\n",
              "      <td>NaN</td>\n",
              "      <td>0</td>\n",
              "      <td>ATTEMPT</td>\n",
              "      <td>NaN</td>\n",
              "      <td>...</td>\n",
              "      <td>next_correct</td>\n",
              "      <td>0</td>\n",
              "      <td>-0.127262</td>\n",
              "      <td>0.019986</td>\n",
              "      <td>0.023455</td>\n",
              "      <td>0.0</td>\n",
              "      <td>0</td>\n",
              "      <td>False</td>\n",
              "      <td>True</td>\n",
              "      <td>0.023163</td>\n",
              "    </tr>\n",
              "    <tr>\n",
              "      <th>3</th>\n",
              "      <td>4</td>\n",
              "      <td>All Data</td>\n",
              "      <td>978a103b1e84307bacd12fb88606f857</td>\n",
              "      <td>S002</td>\n",
              "      <td>1</td>\n",
              "      <td>2016-02-05 19:46:00</td>\n",
              "      <td>NaN</td>\n",
              "      <td>0</td>\n",
              "      <td>ATTEMPT</td>\n",
              "      <td>NaN</td>\n",
              "      <td>...</td>\n",
              "      <td>next_correct</td>\n",
              "      <td>0</td>\n",
              "      <td>-0.127262</td>\n",
              "      <td>0.043149</td>\n",
              "      <td>0.023163</td>\n",
              "      <td>0.0</td>\n",
              "      <td>0</td>\n",
              "      <td>False</td>\n",
              "      <td>True</td>\n",
              "      <td>0.022875</td>\n",
              "    </tr>\n",
              "    <tr>\n",
              "      <th>4</th>\n",
              "      <td>5</td>\n",
              "      <td>All Data</td>\n",
              "      <td>831b85657c909543fff48c06c076eac2</td>\n",
              "      <td>S002</td>\n",
              "      <td>1</td>\n",
              "      <td>2016-02-05 19:46:00</td>\n",
              "      <td>NaN</td>\n",
              "      <td>0</td>\n",
              "      <td>ATTEMPT</td>\n",
              "      <td>NaN</td>\n",
              "      <td>...</td>\n",
              "      <td>next_correct</td>\n",
              "      <td>0</td>\n",
              "      <td>-0.127262</td>\n",
              "      <td>0.066024</td>\n",
              "      <td>0.022875</td>\n",
              "      <td>0.0</td>\n",
              "      <td>0</td>\n",
              "      <td>False</td>\n",
              "      <td>True</td>\n",
              "      <td>0.022591</td>\n",
              "    </tr>\n",
              "  </tbody>\n",
              "</table>\n",
              "<p>5 rows × 59 columns</p>\n",
              "</div>\n",
              "    <div class=\"colab-df-buttons\">\n",
              "\n",
              "  <div class=\"colab-df-container\">\n",
              "    <button class=\"colab-df-convert\" onclick=\"convertToInteractive('df-f51ad1c1-e7e3-4a55-9c47-eabf7091e7b6')\"\n",
              "            title=\"Convert this dataframe to an interactive table.\"\n",
              "            style=\"display:none;\">\n",
              "\n",
              "  <svg xmlns=\"http://www.w3.org/2000/svg\" height=\"24px\" viewBox=\"0 -960 960 960\">\n",
              "    <path d=\"M120-120v-720h720v720H120Zm60-500h600v-160H180v160Zm220 220h160v-160H400v160Zm0 220h160v-160H400v160ZM180-400h160v-160H180v160Zm440 0h160v-160H620v160ZM180-180h160v-160H180v160Zm440 0h160v-160H620v160Z\"/>\n",
              "  </svg>\n",
              "    </button>\n",
              "\n",
              "  <style>\n",
              "    .colab-df-container {\n",
              "      display:flex;\n",
              "      gap: 12px;\n",
              "    }\n",
              "\n",
              "    .colab-df-convert {\n",
              "      background-color: #E8F0FE;\n",
              "      border: none;\n",
              "      border-radius: 50%;\n",
              "      cursor: pointer;\n",
              "      display: none;\n",
              "      fill: #1967D2;\n",
              "      height: 32px;\n",
              "      padding: 0 0 0 0;\n",
              "      width: 32px;\n",
              "    }\n",
              "\n",
              "    .colab-df-convert:hover {\n",
              "      background-color: #E2EBFA;\n",
              "      box-shadow: 0px 1px 2px rgba(60, 64, 67, 0.3), 0px 1px 3px 1px rgba(60, 64, 67, 0.15);\n",
              "      fill: #174EA6;\n",
              "    }\n",
              "\n",
              "    .colab-df-buttons div {\n",
              "      margin-bottom: 4px;\n",
              "    }\n",
              "\n",
              "    [theme=dark] .colab-df-convert {\n",
              "      background-color: #3B4455;\n",
              "      fill: #D2E3FC;\n",
              "    }\n",
              "\n",
              "    [theme=dark] .colab-df-convert:hover {\n",
              "      background-color: #434B5C;\n",
              "      box-shadow: 0px 1px 3px 1px rgba(0, 0, 0, 0.15);\n",
              "      filter: drop-shadow(0px 1px 2px rgba(0, 0, 0, 0.3));\n",
              "      fill: #FFFFFF;\n",
              "    }\n",
              "  </style>\n",
              "\n",
              "    <script>\n",
              "      const buttonEl =\n",
              "        document.querySelector('#df-f51ad1c1-e7e3-4a55-9c47-eabf7091e7b6 button.colab-df-convert');\n",
              "      buttonEl.style.display =\n",
              "        google.colab.kernel.accessAllowed ? 'block' : 'none';\n",
              "\n",
              "      async function convertToInteractive(key) {\n",
              "        const element = document.querySelector('#df-f51ad1c1-e7e3-4a55-9c47-eabf7091e7b6');\n",
              "        const dataTable =\n",
              "          await google.colab.kernel.invokeFunction('convertToInteractive',\n",
              "                                                    [key], {});\n",
              "        if (!dataTable) return;\n",
              "\n",
              "        const docLinkHtml = 'Like what you see? Visit the ' +\n",
              "          '<a target=\"_blank\" href=https://colab.research.google.com/notebooks/data_table.ipynb>data table notebook</a>'\n",
              "          + ' to learn more about interactive tables.';\n",
              "        element.innerHTML = '';\n",
              "        dataTable['output_type'] = 'display_data';\n",
              "        await google.colab.output.renderOutput(dataTable, element);\n",
              "        const docLink = document.createElement('div');\n",
              "        docLink.innerHTML = docLinkHtml;\n",
              "        element.appendChild(docLink);\n",
              "      }\n",
              "    </script>\n",
              "  </div>\n",
              "\n",
              "\n",
              "    <div id=\"df-725f748f-8379-4db8-ad4a-a8f0a4ff741e\">\n",
              "      <button class=\"colab-df-quickchart\" onclick=\"quickchart('df-725f748f-8379-4db8-ad4a-a8f0a4ff741e')\"\n",
              "                title=\"Suggest charts\"\n",
              "                style=\"display:none;\">\n",
              "\n",
              "<svg xmlns=\"http://www.w3.org/2000/svg\" height=\"24px\"viewBox=\"0 0 24 24\"\n",
              "     width=\"24px\">\n",
              "    <g>\n",
              "        <path d=\"M19 3H5c-1.1 0-2 .9-2 2v14c0 1.1.9 2 2 2h14c1.1 0 2-.9 2-2V5c0-1.1-.9-2-2-2zM9 17H7v-7h2v7zm4 0h-2V7h2v10zm4 0h-2v-4h2v4z\"/>\n",
              "    </g>\n",
              "</svg>\n",
              "      </button>\n",
              "\n",
              "<style>\n",
              "  .colab-df-quickchart {\n",
              "      --bg-color: #E8F0FE;\n",
              "      --fill-color: #1967D2;\n",
              "      --hover-bg-color: #E2EBFA;\n",
              "      --hover-fill-color: #174EA6;\n",
              "      --disabled-fill-color: #AAA;\n",
              "      --disabled-bg-color: #DDD;\n",
              "  }\n",
              "\n",
              "  [theme=dark] .colab-df-quickchart {\n",
              "      --bg-color: #3B4455;\n",
              "      --fill-color: #D2E3FC;\n",
              "      --hover-bg-color: #434B5C;\n",
              "      --hover-fill-color: #FFFFFF;\n",
              "      --disabled-bg-color: #3B4455;\n",
              "      --disabled-fill-color: #666;\n",
              "  }\n",
              "\n",
              "  .colab-df-quickchart {\n",
              "    background-color: var(--bg-color);\n",
              "    border: none;\n",
              "    border-radius: 50%;\n",
              "    cursor: pointer;\n",
              "    display: none;\n",
              "    fill: var(--fill-color);\n",
              "    height: 32px;\n",
              "    padding: 0;\n",
              "    width: 32px;\n",
              "  }\n",
              "\n",
              "  .colab-df-quickchart:hover {\n",
              "    background-color: var(--hover-bg-color);\n",
              "    box-shadow: 0 1px 2px rgba(60, 64, 67, 0.3), 0 1px 3px 1px rgba(60, 64, 67, 0.15);\n",
              "    fill: var(--button-hover-fill-color);\n",
              "  }\n",
              "\n",
              "  .colab-df-quickchart-complete:disabled,\n",
              "  .colab-df-quickchart-complete:disabled:hover {\n",
              "    background-color: var(--disabled-bg-color);\n",
              "    fill: var(--disabled-fill-color);\n",
              "    box-shadow: none;\n",
              "  }\n",
              "\n",
              "  .colab-df-spinner {\n",
              "    border: 2px solid var(--fill-color);\n",
              "    border-color: transparent;\n",
              "    border-bottom-color: var(--fill-color);\n",
              "    animation:\n",
              "      spin 1s steps(1) infinite;\n",
              "  }\n",
              "\n",
              "  @keyframes spin {\n",
              "    0% {\n",
              "      border-color: transparent;\n",
              "      border-bottom-color: var(--fill-color);\n",
              "      border-left-color: var(--fill-color);\n",
              "    }\n",
              "    20% {\n",
              "      border-color: transparent;\n",
              "      border-left-color: var(--fill-color);\n",
              "      border-top-color: var(--fill-color);\n",
              "    }\n",
              "    30% {\n",
              "      border-color: transparent;\n",
              "      border-left-color: var(--fill-color);\n",
              "      border-top-color: var(--fill-color);\n",
              "      border-right-color: var(--fill-color);\n",
              "    }\n",
              "    40% {\n",
              "      border-color: transparent;\n",
              "      border-right-color: var(--fill-color);\n",
              "      border-top-color: var(--fill-color);\n",
              "    }\n",
              "    60% {\n",
              "      border-color: transparent;\n",
              "      border-right-color: var(--fill-color);\n",
              "    }\n",
              "    80% {\n",
              "      border-color: transparent;\n",
              "      border-right-color: var(--fill-color);\n",
              "      border-bottom-color: var(--fill-color);\n",
              "    }\n",
              "    90% {\n",
              "      border-color: transparent;\n",
              "      border-bottom-color: var(--fill-color);\n",
              "    }\n",
              "  }\n",
              "</style>\n",
              "\n",
              "      <script>\n",
              "        async function quickchart(key) {\n",
              "          const quickchartButtonEl =\n",
              "            document.querySelector('#' + key + ' button');\n",
              "          quickchartButtonEl.disabled = true;  // To prevent multiple clicks.\n",
              "          quickchartButtonEl.classList.add('colab-df-spinner');\n",
              "          try {\n",
              "            const charts = await google.colab.kernel.invokeFunction(\n",
              "                'suggestCharts', [key], {});\n",
              "          } catch (error) {\n",
              "            console.error('Error during call to suggestCharts:', error);\n",
              "          }\n",
              "          quickchartButtonEl.classList.remove('colab-df-spinner');\n",
              "          quickchartButtonEl.classList.add('colab-df-quickchart-complete');\n",
              "        }\n",
              "        (() => {\n",
              "          let quickchartButtonEl =\n",
              "            document.querySelector('#df-725f748f-8379-4db8-ad4a-a8f0a4ff741e button');\n",
              "          quickchartButtonEl.style.display =\n",
              "            google.colab.kernel.accessAllowed ? 'block' : 'none';\n",
              "        })();\n",
              "      </script>\n",
              "    </div>\n",
              "\n",
              "    </div>\n",
              "  </div>\n"
            ],
            "application/vnd.google.colaboratory.intrinsic+json": {
              "type": "dataframe"
            }
          },
          "metadata": {},
          "execution_count": 36
        }
      ]
    },
    {
      "cell_type": "markdown",
      "source": [
        "#**Training Curves**"
      ],
      "metadata": {
        "id": "X4HcP2pEwUt4"
      }
    },
    {
      "cell_type": "code",
      "source": [
        "agent.plot(label=\"CQL - No Theta\")"
      ],
      "metadata": {
        "colab": {
          "base_uri": "https://localhost:8080/",
          "height": 913
        },
        "id": "FBGn17nMxlfY",
        "outputId": "72a98b2b-b2ca-4141-8373-2b0edcf88023"
      },
      "execution_count": 145,
      "outputs": [
        {
          "output_type": "display_data",
          "data": {
            "text/plain": [
              "<Figure size 800x500 with 1 Axes>"
            ],
            "image/png": "[encoded data removed]"
          },
          "metadata": {}
        },
        {
          "output_type": "display_data",
          "data": {
            "text/plain": [
              "<Figure size 800x500 with 1 Axes>"
            ],
            "image/png": "[encoded data removed]"
          },
          "metadata": {}
        }
      ]
    }
  ]
}